{
 "cells": [
  {
   "cell_type": "markdown",
   "id": "9c81debd",
   "metadata": {},
   "source": [
    "#Data Visualisation Project\n",
    "\n",
    "## About Dataset\n",
    "\n",
    "Dataset Name: Standard Metropolitan Dataset\n",
    "Dataset Description:\n",
    "\n",
    "- It contains data of 99 standard metropolitan areas in the US i.e 99 row entries.\n",
    "- The dataset provides information on 11 variables for each area for the period 1976-1977.\n",
    "- The areas have been divided into 4 geographic regions: 1=North-East, 2=North-Central, 3=South, 4=West. \n",
    "- The variables provided are listed in the table below:\n",
    "\n",
    "|  Variable name | Description  |\n",
    "|----------------|--------------|\n",
    "| land_area     | size in square miles|\n",
    "| total_population | estimated population in thousands |\n",
    "| percent_city | percent of population in central city/cities |\n",
    "| percent_senior | pecent of population ≤ 65 years |\n",
    "| physicians | number of professionally active physicans |\n",
    "| hospital_beds | total number of hospital beds |\n",
    "| graduates | percent of adults that finised school |\n",
    "| work_force | number of persons in work force in thousands |\n",
    "| income | total income in 197 in millions of dollars |\n",
    "| crime_rate | Ratio number of serious crimes by total population |\n",
    "| region | geographic region according to US Census |\n",
    "\n",
    "### Obejective: To find crime rate in each area\n",
    "\n",
    "#### Loading dataset"
   ]
  },
  {
   "cell_type": "code",
   "execution_count": 1,
   "id": "92c757b3",
   "metadata": {},
   "outputs": [],
   "source": [
    "# importing libraries\n",
    "\n",
    "import matplotlib.pyplot as plt  # for data visualization\n",
    "import numpy as np # for array related operations\n",
    "import pandas as pd  # for working with CSV files\n",
    "\n",
    "data = pd.read_csv(\"https://raw.githubusercontent.com/dphi-official/Datasets/master/Standard_Metropolitan_Areas_Data-data.csv\")"
   ]
  },
  {
   "cell_type": "code",
   "execution_count": 2,
   "id": "67aa96fd",
   "metadata": {},
   "outputs": [
    {
     "data": {
      "text/html": [
       "<div>\n",
       "<style scoped>\n",
       "    .dataframe tbody tr th:only-of-type {\n",
       "        vertical-align: middle;\n",
       "    }\n",
       "\n",
       "    .dataframe tbody tr th {\n",
       "        vertical-align: top;\n",
       "    }\n",
       "\n",
       "    .dataframe thead th {\n",
       "        text-align: right;\n",
       "    }\n",
       "</style>\n",
       "<table border=\"1\" class=\"dataframe\">\n",
       "  <thead>\n",
       "    <tr style=\"text-align: right;\">\n",
       "      <th></th>\n",
       "      <th>land_area</th>\n",
       "      <th>percent_city</th>\n",
       "      <th>percent_senior</th>\n",
       "      <th>physicians</th>\n",
       "      <th>hospital_beds</th>\n",
       "      <th>graduates</th>\n",
       "      <th>work_force</th>\n",
       "      <th>income</th>\n",
       "      <th>region</th>\n",
       "      <th>crime_rate</th>\n",
       "    </tr>\n",
       "  </thead>\n",
       "  <tbody>\n",
       "    <tr>\n",
       "      <th>0</th>\n",
       "      <td>1384</td>\n",
       "      <td>78.1</td>\n",
       "      <td>12.3</td>\n",
       "      <td>25627</td>\n",
       "      <td>69678</td>\n",
       "      <td>50.1</td>\n",
       "      <td>4083.9</td>\n",
       "      <td>72100</td>\n",
       "      <td>1</td>\n",
       "      <td>75.55</td>\n",
       "    </tr>\n",
       "    <tr>\n",
       "      <th>1</th>\n",
       "      <td>3719</td>\n",
       "      <td>43.9</td>\n",
       "      <td>9.4</td>\n",
       "      <td>13326</td>\n",
       "      <td>43292</td>\n",
       "      <td>53.9</td>\n",
       "      <td>3305.9</td>\n",
       "      <td>54542</td>\n",
       "      <td>2</td>\n",
       "      <td>56.03</td>\n",
       "    </tr>\n",
       "    <tr>\n",
       "      <th>2</th>\n",
       "      <td>3553</td>\n",
       "      <td>37.4</td>\n",
       "      <td>10.7</td>\n",
       "      <td>9724</td>\n",
       "      <td>33731</td>\n",
       "      <td>50.6</td>\n",
       "      <td>2066.3</td>\n",
       "      <td>33216</td>\n",
       "      <td>1</td>\n",
       "      <td>41.32</td>\n",
       "    </tr>\n",
       "    <tr>\n",
       "      <th>3</th>\n",
       "      <td>3916</td>\n",
       "      <td>29.9</td>\n",
       "      <td>8.8</td>\n",
       "      <td>6402</td>\n",
       "      <td>24167</td>\n",
       "      <td>52.2</td>\n",
       "      <td>1966.7</td>\n",
       "      <td>32906</td>\n",
       "      <td>2</td>\n",
       "      <td>67.38</td>\n",
       "    </tr>\n",
       "    <tr>\n",
       "      <th>4</th>\n",
       "      <td>2480</td>\n",
       "      <td>31.5</td>\n",
       "      <td>10.5</td>\n",
       "      <td>8502</td>\n",
       "      <td>16751</td>\n",
       "      <td>66.1</td>\n",
       "      <td>1514.5</td>\n",
       "      <td>26573</td>\n",
       "      <td>4</td>\n",
       "      <td>80.19</td>\n",
       "    </tr>\n",
       "  </tbody>\n",
       "</table>\n",
       "</div>"
      ],
      "text/plain": [
       "   land_area  percent_city  percent_senior  physicians  hospital_beds  \\\n",
       "0       1384          78.1            12.3       25627          69678   \n",
       "1       3719          43.9             9.4       13326          43292   \n",
       "2       3553          37.4            10.7        9724          33731   \n",
       "3       3916          29.9             8.8        6402          24167   \n",
       "4       2480          31.5            10.5        8502          16751   \n",
       "\n",
       "   graduates  work_force  income  region  crime_rate  \n",
       "0       50.1      4083.9   72100       1       75.55  \n",
       "1       53.9      3305.9   54542       2       56.03  \n",
       "2       50.6      2066.3   33216       1       41.32  \n",
       "3       52.2      1966.7   32906       2       67.38  \n",
       "4       66.1      1514.5   26573       4       80.19  "
      ]
     },
     "execution_count": 2,
     "metadata": {},
     "output_type": "execute_result"
    }
   ],
   "source": [
    "data.head()"
   ]
  },
  {
   "cell_type": "markdown",
   "id": "880ccf7d",
   "metadata": {},
   "source": [
    "### Creating a Scatter plot"
   ]
  },
  {
   "cell_type": "code",
   "execution_count": 3,
   "id": "9dbe35cb",
   "metadata": {},
   "outputs": [
    {
     "data": {
      "image/png": "[encoded data removed]",
      "text/plain": [
       "<Figure size 432x288 with 1 Axes>"
      ]
     },
     "metadata": {
      "needs_background": "light"
     },
     "output_type": "display_data"
    }
   ],
   "source": [
    "# To create a scatter plot in Matplotlib we use the .scatter() method\n",
    "\n",
    "plt.scatter(data.physicians, data.hospital_beds)  # plotting the scatter plot\n",
    "plt.title('correlation between hospital beds and physicians')\n",
    "plt.ylabel('Hospital Beds')\n",
    "plt.xlabel('Physicians')\n",
    "plt.show() # showing the figure"
   ]
  },
  {
   "cell_type": "markdown",
   "id": "2e6bf5c4",
   "metadata": {},
   "source": [
    "### Applications of Scatter Plot\n",
    "- A scatter plot can be useful for identifying other patterns in data.\n",
    "- We can divide data points into groups based on how closely sets of points cluster together.\n",
    "- Scatter plots can also show if there are any unexpected gaps in the data and if there are any outlier points. (Look at the 2 points away from rest of the data in the scatter plot. Those are outliers.)\n",
    "- This can be useful if we want to segment the data into different parts, like categorising users into different groups."
   ]
  },
  {
   "cell_type": "markdown",
   "id": "001e5ff6",
   "metadata": {},
   "source": [
    "### Creating Line plot\n",
    "- In Matplotlib we can create a line chart by calling the plot method.\n",
    "- plot() is a versatile command, and can take an arbitrary number of arguments."
   ]
  },
  {
   "cell_type": "code",
   "execution_count": 4,
   "id": "83b38d43",
   "metadata": {},
   "outputs": [
    {
     "data": {
      "image/png": "[encoded data removed]",
      "text/plain": [
       "<Figure size 432x288 with 1 Axes>"
      ]
     },
     "metadata": {
      "needs_background": "light"
     },
     "output_type": "display_data"
    }
   ],
   "source": [
    "# Line plot with 2 arguements\n",
    "plt.plot(data.land_area, data.crime_rate)\n",
    "plt.title('land area against crime rate') # 2 arguements\n",
    "plt.xlabel('land area')\n",
    "plt.ylabel('crime rate')\n",
    "plt.show()"
   ]
  },
  {
   "cell_type": "code",
   "execution_count": 5,
   "id": "2ea7d8ef",
   "metadata": {},
   "outputs": [
    {
     "data": {
      "image/png": "[encoded data removed]",
      "text/plain": [
       "<Figure size 432x288 with 1 Axes>"
      ]
     },
     "metadata": {
      "needs_background": "light"
     },
     "output_type": "display_data"
    }
   ],
   "source": [
    "# Line plot with 1 arguement\n",
    "\n",
    "plt.plot([1,2,3,4])  # 1 arguement\n",
    "plt.show()"
   ]
  },
  {
   "cell_type": "markdown",
   "id": "26a436ab",
   "metadata": {},
   "source": [
    "### Applications of Line Plot\n",
    "- Using a line chart one can see the pattern of any dependent variable over time like share price, weather recordings (like temperature, precipitation or humidity), etc. "
   ]
  },
  {
   "cell_type": "markdown",
   "id": "8ed5e3d6",
   "metadata": {},
   "source": [
    "### Creating a Histogram\n",
    "Matplotlib can be used to create histograms using the hist() method. \n",
    "Parameters:\n",
    "- x(n,) : this takes either a single array or a sequence of arrays which are not required to be of the same length.\n",
    "- bins : intervals of any quantity"
   ]
  },
  {
   "cell_type": "code",
   "execution_count": 6,
   "id": "91885942",
   "metadata": {},
   "outputs": [
    {
     "data": {
      "image/png": "[encoded data removed]",
      "text/plain": [
       "<Figure size 432x288 with 1 Axes>"
      ]
     },
     "metadata": {
      "needs_background": "light"
     },
     "output_type": "display_data"
    }
   ],
   "source": [
    "plt.hist(data.income)\n",
    "plt.title('Histogram showing senior percentages')\n",
    "plt.xlabel('senior percentages')\n",
    "plt.ylabel('value range')\n",
    "plt.show()"
   ]
  },
  {
   "cell_type": "markdown",
   "id": "a8e821ba",
   "metadata": {},
   "source": [
    "### Applications of Histogram \n",
    "- Histograms are a very common type of plots when we are looking at data like height and weight, stock prices, waiting time for a customer, etc which are continuous in nature.\n",
    "- Histograms are good for showing general distributional features of dataset variables. You can see roughly where the peaks of the distribution are, whether the distribution is skewed or symmetric, and if there are any outliers."
   ]
  },
  {
   "cell_type": "markdown",
   "id": "7059a16f",
   "metadata": {},
   "source": [
    "### Creating Bar plot\n",
    "Pyplot provides a bar() method to make bar graphs which take the following arguments: categorical variables, their values and color (if you want to specify any). "
   ]
  },
  {
   "cell_type": "code",
   "execution_count": 16,
   "id": "72064ed5",
   "metadata": {},
   "outputs": [
    {
     "data": {
      "image/png": "[encoded data removed]",
      "text/plain": [
       "<Figure size 432x288 with 1 Axes>"
      ]
     },
     "metadata": {
      "needs_background": "light"
     },
     "output_type": "display_data"
    }
   ],
   "source": [
    "# creating vertical bar plot\n",
    "\n",
    "plt.bar(data.crime_rate, 1)\n",
    "plt.title('Bar plot showing crime rate')\n",
    "plt.xlabel('region')\n",
    "plt.ylabel('crime rate in %')\n",
    "plt.show()"
   ]
  },
  {
   "cell_type": "code",
   "execution_count": null,
   "id": "a5387db7",
   "metadata": {},
   "outputs": [],
   "source": [
    "# Creating Horizontal Bar plot using plot.barh() method\n",
    "\n",
    "plt.barh(data.region, data.crime_rate)\n",
    "plt.title('Bar plot showing crime rate')\n",
    "plt.xlabel('crime rate in %')\n",
    "plt.ylabel('region')\n",
    "plt.show()"
   ]
  },
  {
   "cell_type": "markdown",
   "id": "1ee2efcf",
   "metadata": {},
   "source": [
    "### Applications of Bar Charts \n",
    "- Bar graphs are used to match things between different groups or to trace changes over time. Look at the bar chart below representing the most in-demand tech skills for data engineers.\n",
    "\n",
    "### Bar Chart vs Histogram\n",
    "Histograms are a great way to show results of continuous data, such as:\n",
    "- weight\n",
    "- height\n",
    "- how much time etc.\n",
    "\n",
    "But when the data is in categories (such as Country or Favorite Movie), we should use a Bar Chart."
   ]
  },
  {
   "cell_type": "markdown",
   "id": "c41da51b",
   "metadata": {},
   "source": [
    "### Creating a Pie chart\n",
    "Pie chart can be made using the method pie()"
   ]
  },
  {
   "cell_type": "code",
   "execution_count": null,
   "id": "3ef4939c",
   "metadata": {},
   "outputs": [],
   "source": [
    "regions = data.region.unique()\n",
    "plt.pie(regions,labels = regions, autopct='%1.1f%%')\n",
    "plt.show()"
   ]
  },
  {
   "cell_type": "code",
   "execution_count": null,
   "id": "95617343",
   "metadata": {},
   "outputs": [],
   "source": [
    "mean = data.land_area.mean()\n",
    "print(mean)\n",
    "data.crime_rate.max()\n",
    "data.income.min()"
   ]
  },
  {
   "cell_type": "code",
   "execution_count": null,
   "id": "7052d1b5",
   "metadata": {},
   "outputs": [],
   "source": [
    "g = data.groupby('region')"
   ]
  },
  {
   "cell_type": "code",
   "execution_count": null,
   "id": "84cbf6dd",
   "metadata": {},
   "outputs": [],
   "source": [
    "g.first()"
   ]
  },
  {
   "cell_type": "code",
   "execution_count": null,
   "id": "358787a8",
   "metadata": {},
   "outputs": [],
   "source": [
    "print(g.get_group(1).count())\n",
    "print(g.get_group(2).count())\n",
    "print(g.get_group(3).count())\n",
    "print(g.get_group(4).count())"
   ]
  },
  {
   "cell_type": "code",
   "execution_count": null,
   "id": "01021874",
   "metadata": {},
   "outputs": [],
   "source": [
    "import seaborn as sns\n",
    "#plt.rcParams['figure.figsize'] = [16,10]\n",
    "sns.heatmap(data.corr(), annot = True)"
   ]
  },
  {
   "cell_type": "code",
   "execution_count": null,
   "id": "963a5deb",
   "metadata": {},
   "outputs": [],
   "source": [
    "plt.subplot(1,2,1)\n",
    "plt.plot(data.work_force, data.income)\n",
    "\n",
    "plt.subplot(1,2,2)\n",
    "plt.plot(data.hospital_beds,data.income)\n",
    "#plt.tight_layout()\n",
    "plt.show()"
   ]
  },
  {
   "cell_type": "code",
   "execution_count": null,
   "id": "19a03201",
   "metadata": {},
   "outputs": [],
   "source": []
  }
 ],
 "metadata": {
  "kernelspec": {
   "display_name": "Python 3 (ipykernel)",
   "language": "python",
   "name": "python3"
  },
  "language_info": {
   "codemirror_mode": {
    "name": "ipython",
    "version": 3
   },
   "file_extension": ".py",
   "mimetype": "text/x-python",
   "name": "python",
   "nbconvert_exporter": "python",
   "pygments_lexer": "ipython3",
   "version": "3.9.7"
  }
 },
 "nbformat": 4,
 "nbformat_minor": 5
}
